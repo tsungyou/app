{
 "cells": [
  {
   "cell_type": "code",
   "execution_count": 10,
   "metadata": {},
   "outputs": [
    {
     "data": {
      "text/html": [
       "<div>\n",
       "<style scoped>\n",
       "    .dataframe tbody tr th:only-of-type {\n",
       "        vertical-align: middle;\n",
       "    }\n",
       "\n",
       "    .dataframe tbody tr th {\n",
       "        vertical-align: top;\n",
       "    }\n",
       "\n",
       "    .dataframe thead th {\n",
       "        text-align: right;\n",
       "    }\n",
       "</style>\n",
       "<table border=\"1\" class=\"dataframe\">\n",
       "  <thead>\n",
       "    <tr style=\"text-align: right;\">\n",
       "      <th></th>\n",
       "      <th>da</th>\n",
       "      <th>op</th>\n",
       "      <th>cl</th>\n",
       "      <th>lo</th>\n",
       "      <th>hi</th>\n",
       "      <th>ticker</th>\n",
       "      <th>codename</th>\n",
       "      <th>industry</th>\n",
       "    </tr>\n",
       "  </thead>\n",
       "  <tbody>\n",
       "    <tr>\n",
       "      <th>0</th>\n",
       "      <td>113/01/02</td>\n",
       "      <td>2,860.00</td>\n",
       "      <td>2,860.00</td>\n",
       "      <td>2,745.00</td>\n",
       "      <td>2,785.00</td>\n",
       "      <td>3008</td>\n",
       "      <td>股名</td>\n",
       "      <td>產業</td>\n",
       "    </tr>\n",
       "  </tbody>\n",
       "</table>\n",
       "</div>"
      ],
      "text/plain": [
       "          da        op        cl        lo        hi ticker codename industry\n",
       "0  113/01/02  2,860.00  2,860.00  2,745.00  2,785.00   3008       股名       產業"
      ]
     },
     "execution_count": 10,
     "metadata": {},
     "output_type": "execute_result"
    }
   ],
   "source": [
    "import pandas as pd\n",
    "import warnings\n",
    "warnings.filterwarnings(\"ignore\")\n",
    "df = pd.read_parquet(\"2024.parquet\")\n",
    "df_insert = df.iloc[:, [0, 3, 4, 5, 6, -1]] \n",
    "df_insert['codename'] = \"股名\"\n",
    "df_insert['industry'] = \"產業\" \n",
    "df_insert.head(1)"
   ]
  },
  {
   "cell_type": "code",
   "execution_count": 11,
   "metadata": {},
   "outputs": [],
   "source": [
    "df_insert['op'] = df['op'].apply(lambda x: float(x.replace(\",\", \"\").replace(\"-\", \"0\")))\n",
    "df_insert['hi'] = df['hi'].apply(lambda x: float(x.replace(\",\", \"\").replace(\"-\", \"0\")))\n",
    "df_insert['lo'] = df['lo'].apply(lambda x: float(x.replace(\",\", \"\").replace(\"-\", \"0\")))\n",
    "df_insert['cl'] = df['cl'].apply(lambda x: float(x.replace(\",\", \"\").replace(\"-\", \"0\")))\n",
    "df_insert['da'] = df['da'].apply(lambda x: f\"{int(x[:3])+1911}-{x[4:6]}-{x[7:]}\")\n",
    "df_insert['da'] = pd.to_datetime(df_insert['da'])"
   ]
  },
  {
   "cell_type": "code",
   "execution_count": 12,
   "metadata": {},
   "outputs": [],
   "source": [
    "import psycopg2\n",
    "\n",
    "connection = psycopg2.connect(\n",
    "    dbname=\"daily\",\n",
    "    user=\"mini\",\n",
    "    password=\"buddyrich134\",\n",
    "    host=\"localhost\",\n",
    "    port=5432\n",
    ")\n",
    "\n",
    "# Open a cursor to perform database operations\n",
    "cursor = connection.cursor()\n"
   ]
  },
  {
   "cell_type": "code",
   "execution_count": 13,
   "metadata": {},
   "outputs": [
    {
     "name": "stderr",
     "output_type": "stream",
     "text": [
      "126229it [00:21, 5864.20it/s]\n"
     ]
    }
   ],
   "source": [
    "from tqdm import tqdm\n",
    "for inedx, row in tqdm(df_insert.iloc[0:, :].iterrows()):\n",
    "    insert_query = f'''\n",
    "    INSERT INTO daily_price(da, codename, symbol, industry, op, hi, lo, cl)\n",
    "    VALUES ('{row['da']}', '{row['codename']}', '{row['ticker']}', '{row['industry']}', '{row['op']}', '{row['hi']}', '{row['lo']}', '{row['cl']}');\n",
    "    '''\n",
    "    cursor.execute(insert_query)\n",
    "    connection.commit()"
   ]
  }
 ],
 "metadata": {
  "kernelspec": {
   "display_name": "Python 3",
   "language": "python",
   "name": "python3"
  },
  "language_info": {
   "codemirror_mode": {
    "name": "ipython",
    "version": 3
   },
   "file_extension": ".py",
   "mimetype": "text/x-python",
   "name": "python",
   "nbconvert_exporter": "python",
   "pygments_lexer": "ipython3",
   "version": "3.11.9"
  }
 },
 "nbformat": 4,
 "nbformat_minor": 2
}
